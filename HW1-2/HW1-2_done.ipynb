{
 "cells": [
  {
   "cell_type": "markdown",
   "id": "ef43214b",
   "metadata": {},
   "source": [
    "# 0. Наибольший общий делитель - 1 балл\n",
    "Напишите функцию, которая на вход принимает два целых числа, а на выходе отдает их наибольших общий делитель. \n",
    "\n",
    "Пример\n",
    "\n",
    "Ввод \n",
    "\n",
    "`lcd(10,2)`\n",
    "\n",
    "Вывод\n",
    "\n",
    "`2`\n",
    "\n",
    "Пример\n",
    "\n",
    "Ввод \n",
    "\n",
    "`lcd(10,25)`\n",
    "\n",
    "Вывод\n",
    "\n",
    "`5`"
   ]
  },
  {
   "cell_type": "code",
   "execution_count": null,
   "id": "d227561c",
   "metadata": {},
   "outputs": [],
   "source": [
    "def lcd(a,b):\n",
    "    if a<b:\n",
    "        a,b=b,a\n",
    "    while a%b!=0:\n",
    "        r = a%b\n",
    "        a=r\n",
    "        if a<b:\n",
    "            a,b=b,a\n",
    "    return b\n",
    "lcd(10,2)"
   ]
  },
  {
   "cell_type": "markdown",
   "id": "777171f3",
   "metadata": {},
   "source": [
    "# 1. Задачка про перевод из `camel_case`'a в `snake_case` - 1.5 балла\n",
    " Напишите функцию, которая на вход принимает строку, записанную в `CamelCase`, а переводит ее в `snake_case`.\n",
    " Подсказка: идите по строке циклом, обрабатывайте каждый символ, если символ заглавный, к обработанным ранее добавляйте нижнее подчеркивание и нынешний переводите в `lower case` \n",
    " \n",
    " Пример:\n",
    "\n",
    "**Вход**: `'camelCaseVar'`\n",
    "\n",
    "**Выход**: `'camel_сase_var'`"
   ]
  },
  {
   "cell_type": "code",
   "execution_count": null,
   "id": "5e4c1ced",
   "metadata": {},
   "outputs": [],
   "source": [
    "def snake_casing(a):\n",
    "    new_string = ''\n",
    "    b = a[0].lower()+a[1:]\n",
    "    for i in b:\n",
    "        if i in 'ABCDEFGHIJKLMNOPQRSTUVWXYZ':\n",
    "            new_string += ('_' + i.lower())\n",
    "        else:\n",
    "            new_string += i \n",
    "    return new_string"
   ]
  },
  {
   "cell_type": "markdown",
   "id": "929847a2",
   "metadata": {},
   "source": [
    "# 2. Про Поросёнка Петра - 2 балла\n",
    "На плоскости в точке `(0,0)` стоит Поросёнок Пётр. Он умеет ходить налево, направо, вверх и вниз. Расстояние его прохода в какую-либо сторону измеряется в шагах. Когда он идет вправо, его первая координата увеличивается, когда влево - уменьшается. Когда он идет вверх, его вторая координата увеличивается, а когда вниз - уменьшается.\n",
    "С клавиатуры считывается число `N` - число ходов, которые сделает Пётр. После чего на каждом шаге спрашивается, сколько шагов и в какую сторону за этот ход Пётр сделает. Так происходит, пока Пётр не осуществит все N ходов.\n",
    "Программа должна вывести, сколько шагов Пётр должен был бы сделать, чтобы кратчайшим путем прибыть из свое начальной точки `(0,0)` в свою конечную точку. \n",
    "\n",
    "Напоминание: Пётр умеет ходить только вверх-вниз, и влево-вправо, но не по диагонали.\n",
    "\n",
    "Пример ввода:\n",
    "\n",
    "Введите N: `3`\n",
    "\n",
    "Ход 1: `Вверх 1`\n",
    "\n",
    "Ход 2: `Вниз 1`\n",
    "\n",
    "Ход 3: `Вверх 1`\n",
    "\n",
    "Пример вывода:\n",
    "`Пётр находится на расстоянии 1 от (0,0)`"
   ]
  },
  {
   "cell_type": "code",
   "execution_count": null,
   "id": "b3231431",
   "metadata": {},
   "outputs": [],
   "source": [
    "def petr(N):\n",
    "    x,y = 0,0\n",
    "    for i in range(N):\n",
    "        n = input().split(' ')\n",
    "        if n[0] == 'Вверх':\n",
    "            y += int(n[1])\n",
    "        if n[0] == 'Вниз':\n",
    "            y -= int(n[1])\n",
    "        if n[0] == 'Вправо':\n",
    "            x += int(n[1])\n",
    "        if n[0] == 'Влево':\n",
    "            x -= int(n[1])\n",
    "    return f'Пётр находится на расстоянии {x+y} от (0,0)'"
   ]
  },
  {
   "cell_type": "code",
   "execution_count": null,
   "id": "5fa08fd0",
   "metadata": {},
   "outputs": [],
   "source": [
    "petr(3)"
   ]
  },
  {
   "cell_type": "markdown",
   "id": "818909ca",
   "metadata": {},
   "source": [
    "# 3. Sort the keys of the dictionary from a to z.  - 0.5 балла"
   ]
  },
  {
   "cell_type": "code",
   "execution_count": 7,
   "id": "b81d45f3",
   "metadata": {},
   "outputs": [],
   "source": [
    "d_= {\"tiramisu\":5, \"chocolate\":2, \"pudding\":3, \"cheesecake\":4}"
   ]
  },
  {
   "cell_type": "code",
   "execution_count": 8,
   "id": "e543bf15",
   "metadata": {},
   "outputs": [],
   "source": [
    "def sort_dict(d):\n",
    "    l = []\n",
    "    for i in d.keys():\n",
    "        l.append (i)\n",
    "    return sorted(l)"
   ]
  },
  {
   "cell_type": "code",
   "execution_count": 9,
   "id": "542c3795",
   "metadata": {},
   "outputs": [
    {
     "data": {
      "text/plain": [
       "['cheesecake', 'chocolate', 'pudding', 'tiramisu']"
      ]
     },
     "execution_count": 9,
     "metadata": {},
     "output_type": "execute_result"
    }
   ],
   "source": [
    "sort_dict (d_)"
   ]
  },
  {
   "cell_type": "markdown",
   "id": "77275ebf",
   "metadata": {},
   "source": [
    "# 4. Compare three values, return true only if 2 or more values are equal - 0.5 балла"
   ]
  },
  {
   "cell_type": "code",
   "execution_count": 10,
   "id": "d0893272",
   "metadata": {},
   "outputs": [],
   "source": [
    "def compare (a,b,c):\n",
    "    if a==b or b==c or a==c:\n",
    "        return True"
   ]
  },
  {
   "cell_type": "code",
   "execution_count": 12,
   "id": "9956c3d9",
   "metadata": {},
   "outputs": [],
   "source": [
    "compare (5,6,1)"
   ]
  },
  {
   "cell_type": "markdown",
   "id": "895340c0",
   "metadata": {},
   "source": [
    "# 5. Given a list with pairs, sort on the sum of pairs - 0.5 балла"
   ]
  },
  {
   "cell_type": "code",
   "execution_count": 25,
   "id": "7a8971e2",
   "metadata": {},
   "outputs": [],
   "source": [
    "x = [(3,6),(4,7),(5,9),(8,4),(3,1)]"
   ]
  },
  {
   "cell_type": "code",
   "execution_count": 26,
   "id": "df69b2c7",
   "metadata": {},
   "outputs": [],
   "source": [
    "def range_list(x):\n",
    "    d = {}\n",
    "    l = []\n",
    "    for i in x:\n",
    "        d[i] = sum (i)\n",
    "        l.append(sum(i))\n",
    "        l = sorted(l)\n",
    "    y = []\n",
    "    for i in l:\n",
    "        for j in d.keys():\n",
    "            if d[j] == i:\n",
    "                y.append(j)\n",
    "    return y"
   ]
  },
  {
   "cell_type": "code",
   "execution_count": 27,
   "id": "e0409c6e",
   "metadata": {},
   "outputs": [
    {
     "data": {
      "text/plain": [
       "[(3, 1), (3, 6), (4, 7), (8, 4), (5, 9)]"
      ]
     },
     "execution_count": 27,
     "metadata": {},
     "output_type": "execute_result"
    }
   ],
   "source": [
    "range_list (x)"
   ]
  },
  {
   "cell_type": "markdown",
   "id": "be5b7018",
   "metadata": {},
   "source": [
    "# 6. Create a function that takes a list of numbers. Return the largest number in the list. - 0.5 балла"
   ]
  },
  {
   "cell_type": "code",
   "execution_count": null,
   "id": "2ddbc7bf",
   "metadata": {},
   "outputs": [],
   "source": [
    "findLargestNum([4, 5, 1, 3]) ➞ 5\n",
    "\n",
    "findLargestNum([300, 200, 600, 150]) ➞ 600\n",
    "\n",
    "findLargestNum([1000, 1001, 857, 1]) ➞ 1001"
   ]
  },
  {
   "cell_type": "code",
   "execution_count": 28,
   "id": "61fa7a70",
   "metadata": {},
   "outputs": [],
   "source": [
    "def findLargestNum(list):\n",
    "    a = list[0]\n",
    "    for i in list:\n",
    "        if i>a:\n",
    "            a = i\n",
    "    return a"
   ]
  },
  {
   "cell_type": "code",
   "execution_count": 31,
   "id": "86e21236",
   "metadata": {},
   "outputs": [
    {
     "data": {
      "text/plain": [
       "1001"
      ]
     },
     "execution_count": 31,
     "metadata": {},
     "output_type": "execute_result"
    }
   ],
   "source": [
    "findLargestNum([1000, 1001, 857, 1])"
   ]
  },
  {
   "cell_type": "markdown",
   "id": "17918763",
   "metadata": {},
   "source": [
    "# 7. Create a function that takes a string and returns the concatenated first and last character. - 0.5 балла"
   ]
  },
  {
   "cell_type": "code",
   "execution_count": null,
   "id": "7062bfdb",
   "metadata": {},
   "outputs": [],
   "source": [
    "repetition(\"ab\", 3) ➞ \"ababab\"\n",
    "\n",
    "repetition(\"kiwi\", 1) ➞ \"kiwi\"\n",
    "\n",
    "repetition(\"cherry\", 2) ➞ \"cherrycherry\""
   ]
  },
  {
   "cell_type": "code",
   "execution_count": 32,
   "id": "dca68a14",
   "metadata": {},
   "outputs": [],
   "source": [
    "def repetition(a, num):\n",
    "    return a*num"
   ]
  },
  {
   "cell_type": "code",
   "execution_count": 34,
   "id": "36758a56",
   "metadata": {},
   "outputs": [
    {
     "data": {
      "text/plain": [
       "'cherrycherry'"
      ]
     },
     "execution_count": 34,
     "metadata": {},
     "output_type": "execute_result"
    }
   ],
   "source": [
    "repetition(\"cherry\", 2)"
   ]
  },
  {
   "cell_type": "markdown",
   "id": "5c2fe48a",
   "metadata": {},
   "source": [
    "# 8. Create a function that takes a 2D list lst returns the sum of the minimum value in each row. - 0.5 балла"
   ]
  },
  {
   "cell_type": "code",
   "execution_count": null,
   "id": "c3232abb",
   "metadata": {},
   "outputs": [],
   "source": [
    "sum_minimums([\n",
    "  [1, 2, 3, 4, 5],\n",
    "  [5, 6, 7, 8, 9],\n",
    "  [20, 21, 34, 56, 100]\n",
    "] ➞ 26\n",
    "\n",
    "# minimum value of the first row is 1\n",
    "# minimum value of the second row is 5\n",
    "# minimum value of the third row is 20"
   ]
  },
  {
   "cell_type": "code",
   "execution_count": 35,
   "id": "b6dbb109",
   "metadata": {},
   "outputs": [],
   "source": [
    "def sum_minimums(list_of_lists):\n",
    "    sum_total = 0\n",
    "    for i in list_of_lists:\n",
    "        min_value = i[0]\n",
    "        for j in i:\n",
    "            if j<min_value:\n",
    "                min_value = j\n",
    "        sum_total += min_value\n",
    "    return sum_total"
   ]
  },
  {
   "cell_type": "code",
   "execution_count": 36,
   "id": "0d7cd8bc",
   "metadata": {},
   "outputs": [
    {
     "data": {
      "text/plain": [
       "26"
      ]
     },
     "execution_count": 36,
     "metadata": {},
     "output_type": "execute_result"
    }
   ],
   "source": [
    "sum_minimums([\n",
    "  [1, 2, 3, 4, 5],\n",
    "  [5, 6, 7, 8, 9],\n",
    "  [20, 21, 34, 56, 100]\n",
    "])"
   ]
  },
  {
   "cell_type": "markdown",
   "id": "88c6709f",
   "metadata": {},
   "source": [
    "# 9. Create a function to return the amount of potatoes there are in a string. - 0.5 балла"
   ]
  },
  {
   "cell_type": "code",
   "execution_count": 37,
   "id": "e2610cbd",
   "metadata": {},
   "outputs": [
    {
     "ename": "SyntaxError",
     "evalue": "invalid character in identifier (1115674703.py, line 1)",
     "output_type": "error",
     "traceback": [
      "\u001b[0;36m  File \u001b[0;32m\"/var/folders/5d/79682f2n25j2bkjlb0s8_1g00000gq/T/ipykernel_7251/1115674703.py\"\u001b[0;36m, line \u001b[0;32m1\u001b[0m\n\u001b[0;31m    potatoes(\"potato\") ➞ 1\u001b[0m\n\u001b[0m                       ^\u001b[0m\n\u001b[0;31mSyntaxError\u001b[0m\u001b[0;31m:\u001b[0m invalid character in identifier\n"
     ]
    }
   ],
   "source": [
    "potatoes(\"potato\") ➞ 1\n",
    "\n",
    "potatoes(\"potatopotato\") ➞ 2\n",
    "\n",
    "potatoes(\"potatoapple\") ➞ 1"
   ]
  },
  {
   "cell_type": "code",
   "execution_count": 38,
   "id": "1942fd03",
   "metadata": {},
   "outputs": [],
   "source": [
    "def potatoes(a):\n",
    "    return a.count(\"potato\")"
   ]
  },
  {
   "cell_type": "code",
   "execution_count": 41,
   "id": "cff2bf50",
   "metadata": {},
   "outputs": [
    {
     "data": {
      "text/plain": [
       "1"
      ]
     },
     "execution_count": 41,
     "metadata": {},
     "output_type": "execute_result"
    }
   ],
   "source": [
    "potatoes(\"potatoapple\")"
   ]
  },
  {
   "cell_type": "markdown",
   "id": "7fb5aa44",
   "metadata": {},
   "source": [
    "# 10. Create a function that takes a list of integers as an argument and returns a unique number from that list. All numbers except unique ones have the same number of occurrences in the list. - 0.5 балла"
   ]
  },
  {
   "cell_type": "code",
   "execution_count": null,
   "id": "a43f80e0",
   "metadata": {},
   "outputs": [],
   "source": [
    "find_single_number([2, 2, 2, 3, 4, 4, 4]) ➞ 3\n",
    "\n",
    "find_single_number([2]) ➞ 2\n",
    "\n",
    "find_single_number([]) ➞ None\n",
    "\n",
    "find_single_number([7, 13, 3, 6, 5, 4, 4, 13, 5, 3, 6, 7, 6, 5, 3, 13, 4, 7, 13, 5, 7, 4, 3, 6, 8, 4, 3, 7, 5, 6, 13]) ➞ 8\n",
    "\n",
    "find_single_number([1, 2, 3, 6, 5, 4, 4, 2, 5, 3, 6, 1, 6, 5, 3, 2, 4, 1, 2, 5, 1, 4, 3, 6, 101, 4, 3, 1, 5, 6, 2]) ➞ 101\n"
   ]
  },
  {
   "cell_type": "code",
   "execution_count": 51,
   "id": "c2ca11cb",
   "metadata": {},
   "outputs": [],
   "source": [
    "def find_single_number(l):\n",
    "    d = {}\n",
    "    for i in l:\n",
    "        if i not in d:\n",
    "            d[i] = 1\n",
    "        else:\n",
    "            d[i] += 1\n",
    "    for j in d.keys():\n",
    "        if d[j] == 1:\n",
    "            return j"
   ]
  },
  {
   "cell_type": "code",
   "execution_count": 52,
   "id": "52d99597",
   "metadata": {},
   "outputs": [
    {
     "data": {
      "text/plain": [
       "8"
      ]
     },
     "execution_count": 52,
     "metadata": {},
     "output_type": "execute_result"
    }
   ],
   "source": [
    "find_single_number([7, 13, 3, 6, 5, 4, 4, 13, 5, 3, 6, 7, 6, 5, 3, 13, 4, 7, 13, 5, 7, 4, 3, 6, 8, 4, 3, 7, 5, 6, 13])"
   ]
  },
  {
   "cell_type": "markdown",
   "id": "0313ea52",
   "metadata": {},
   "source": [
    "# 11. Given a letter and a list of words, return whether the letter does not appear in any of the words. - 0.5 балла"
   ]
  },
  {
   "cell_type": "code",
   "execution_count": null,
   "id": "0cb649a5",
   "metadata": {},
   "outputs": [],
   "source": [
    "forbidden_letter(\"r\", [\"rock\", \"paper\", \"scissors\"]) ➞ False\n",
    "\n",
    "forbidden_letter(\"a\", [\"spoon\", \"fork\", \"knife\"]) ➞ True\n",
    "\n",
    "forbidden_letter(\"m\", []) ➞ True"
   ]
  },
  {
   "cell_type": "code",
   "execution_count": 54,
   "id": "b474573f",
   "metadata": {},
   "outputs": [],
   "source": [
    "def forbidden_letter(letter, list_):\n",
    "    a = 0\n",
    "    for i in list_:\n",
    "        if letter in i:\n",
    "            a += 1\n",
    "    return not bool(a)"
   ]
  },
  {
   "cell_type": "code",
   "execution_count": 57,
   "id": "64b87afe",
   "metadata": {},
   "outputs": [
    {
     "data": {
      "text/plain": [
       "True"
      ]
     },
     "execution_count": 57,
     "metadata": {},
     "output_type": "execute_result"
    }
   ],
   "source": [
    "forbidden_letter(\"m\", [])"
   ]
  },
  {
   "cell_type": "markdown",
   "id": "0a7ef5b5",
   "metadata": {},
   "source": [
    "# 12.  Define a function which create a Pattern like this one.  - 2 балла"
   ]
  },
  {
   "cell_type": "code",
   "execution_count": null,
   "id": "7617ebb7",
   "metadata": {},
   "outputs": [],
   "source": [
    "Input: 4\n",
    "Pattern:\n",
    "\n",
    " 01234\n",
    "  | |     0\n",
    " -----    1\n",
    "  | |     2\n",
    " -----    3\n",
    "  | |     4"
   ]
  },
  {
   "cell_type": "code",
   "execution_count": 24,
   "id": "5d3b0cdd",
   "metadata": {},
   "outputs": [
    {
     "name": "stdout",
     "output_type": "stream",
     "text": [
      "01234\n",
      " | |     0\n",
      "-----    1\n",
      " | |     2\n",
      "-----    3\n",
      " | |     4\n"
     ]
    }
   ],
   "source": [
    "n = 4\n",
    "for i in range (n+1):\n",
    "    print (i, end = '')\n",
    "print()\n",
    "for i in range (n+1):\n",
    "    if i%2 == 0:\n",
    "        for j in range (n+1):\n",
    "            if j%2 == 0:\n",
    "                print (' ', end = '')\n",
    "            else:\n",
    "                print ('|', end = '')\n",
    "    else:\n",
    "        print ('-'*(n+1), end = '')\n",
    "    print('   ', i)"
   ]
  },
  {
   "cell_type": "code",
   "execution_count": null,
   "id": "f16e5a79",
   "metadata": {},
   "outputs": [],
   "source": []
  },
  {
   "cell_type": "markdown",
   "id": "0d5edcd1",
   "metadata": {},
   "source": [
    "# 13. Create a function that takes three numbers as arguments and returns True if it's a triangle and False if not.  - 0.5 балла"
   ]
  },
  {
   "cell_type": "code",
   "execution_count": 58,
   "id": "d867302c",
   "metadata": {},
   "outputs": [
    {
     "ename": "SyntaxError",
     "evalue": "invalid character in identifier (1381953870.py, line 1)",
     "output_type": "error",
     "traceback": [
      "\u001b[0;36m  File \u001b[0;32m\"/var/folders/5d/79682f2n25j2bkjlb0s8_1g00000gq/T/ipykernel_7251/1381953870.py\"\u001b[0;36m, line \u001b[0;32m1\u001b[0m\n\u001b[0;31m    is_triangle(2, 3, 4) ➞ True\u001b[0m\n\u001b[0m                         ^\u001b[0m\n\u001b[0;31mSyntaxError\u001b[0m\u001b[0;31m:\u001b[0m invalid character in identifier\n"
     ]
    }
   ],
   "source": [
    "is_triangle(2, 3, 4) ➞ True\n",
    "\n",
    "is_triangle(3, 4, 5) ➞ True\n",
    "\n",
    "is_triangle(4, 3, 8) ➞ False"
   ]
  },
  {
   "cell_type": "code",
   "execution_count": 59,
   "id": "85238233",
   "metadata": {},
   "outputs": [],
   "source": [
    "def is_triangle(a,b,c):\n",
    "    if a+b>c and a+c>b and b+c>a:\n",
    "        return True\n",
    "    else:\n",
    "        return False"
   ]
  },
  {
   "cell_type": "code",
   "execution_count": 61,
   "id": "fe78a53b",
   "metadata": {},
   "outputs": [
    {
     "data": {
      "text/plain": [
       "False"
      ]
     },
     "execution_count": 61,
     "metadata": {},
     "output_type": "execute_result"
    }
   ],
   "source": [
    "is_triangle(4, 3, 8)"
   ]
  },
  {
   "cell_type": "markdown",
   "id": "2bdfb66e",
   "metadata": {},
   "source": [
    "# 14. Create a \"Code\" Generator that takes text as input and replaces some letter with another letter, and outputs the \"encoded\" message. Create funcs to encode and decode messages"
   ]
  },
  {
   "cell_type": "code",
   "execution_count": null,
   "id": "0caf2b35",
   "metadata": {},
   "outputs": [],
   "source": [
    "replacement = {\"a\": \"b\", \"b\": \"a\", \"y\": \"t\"}"
   ]
  },
  {
   "cell_type": "code",
   "execution_count": 76,
   "id": "da8f26f6",
   "metadata": {},
   "outputs": [],
   "source": [
    "def encode(text):\n",
    "    new_text = ''\n",
    "    for i in range(len(text)):\n",
    "        if text[i] in replacement.keys():\n",
    "            new_text += replacement[text[i]]\n",
    "        else:\n",
    "            new_text += text[i]\n",
    "    return new_text\n",
    "def decode(text):\n",
    "    new_text = ''\n",
    "    re_replacement = {}\n",
    "    for i in replacement.keys():\n",
    "        re_replacement[replacement[i]] = i\n",
    "    for i in range(len(text)):\n",
    "        if text[i] in re_replacement.keys():\n",
    "            new_text += re_replacement[text[i]]\n",
    "        else:\n",
    "            new_text += text[i]\n",
    "    return new_text"
   ]
  },
  {
   "cell_type": "code",
   "execution_count": 77,
   "id": "bf3e1e6b",
   "metadata": {},
   "outputs": [
    {
     "data": {
      "text/plain": [
       "'baaat'"
      ]
     },
     "execution_count": 77,
     "metadata": {},
     "output_type": "execute_result"
    }
   ],
   "source": [
    "encode(\"abbby\")"
   ]
  },
  {
   "cell_type": "code",
   "execution_count": 78,
   "id": "bbcf05b7",
   "metadata": {},
   "outputs": [
    {
     "data": {
      "text/plain": [
       "'abbby'"
      ]
     },
     "execution_count": 78,
     "metadata": {},
     "output_type": "execute_result"
    }
   ],
   "source": [
    "decode(\"baaat\")"
   ]
  }
 ],
 "metadata": {
  "kernelspec": {
   "display_name": "Python 3 (ipykernel)",
   "language": "python",
   "name": "python3"
  },
  "language_info": {
   "codemirror_mode": {
    "name": "ipython",
    "version": 3
   },
   "file_extension": ".py",
   "mimetype": "text/x-python",
   "name": "python",
   "nbconvert_exporter": "python",
   "pygments_lexer": "ipython3",
   "version": "3.7.2"
  }
 },
 "nbformat": 4,
 "nbformat_minor": 5
}
